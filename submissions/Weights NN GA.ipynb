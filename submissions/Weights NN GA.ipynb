{
 "cells": [
  {
   "cell_type": "markdown",
   "metadata": {},
   "source": [
    "This version of the snake game allows you to implement and run your evolutionary algorithm"
   ]
  },
  {
   "cell_type": "code",
   "execution_count": null,
   "metadata": {},
   "outputs": [],
   "source": [
    "import random\n",
    "import time\n",
    "import turtle\n",
    "import numpy as np\n",
    "import math\n",
    "from deap import base\n",
    "from deap import creator\n",
    "from deap import tools\n",
    "import pickle"
   ]
  },
  {
   "cell_type": "code",
   "execution_count": null,
   "metadata": {},
   "outputs": [],
   "source": [
    "XSIZE = YSIZE = 16 # Number of grid cells in each direction (do not change this)"
   ]
  },
  {
   "cell_type": "markdown",
   "metadata": {},
   "source": [
    "Change headless to True when evolving your solution. You can then pickle your final solution, and run it with this set to True to visualize the result, if you wish. Note that, when using Turtle,  to run it again properly you might need to go to restart your kernel after the visualization has finished."
   ]
  },
  {
   "cell_type": "markdown",
   "metadata": {},
   "source": [
    "If you are running on the cloud, or on Google Colab, you can chose to remove the turtle and display code altogether and only run headless. You could then pickle your best solution and use this code to see it play."
   ]
  },
  {
   "cell_type": "code",
   "execution_count": null,
   "metadata": {},
   "outputs": [],
   "source": [
    "HEADLESS = True\n",
    "PRINT = False"
   ]
  },
  {
   "cell_type": "markdown",
   "metadata": {},
   "source": [
    "# The Game"
   ]
  },
  {
   "cell_type": "code",
   "execution_count": null,
   "metadata": {},
   "outputs": [],
   "source": [
    "class DisplayGame:\n",
    "    def __init__(self, XSIZE, YSIZE):\n",
    "        # SCREEN\n",
    "        self.win = turtle.Screen()\n",
    "        self.win.title(\"EVCO Snake game\")\n",
    "        self.win.bgcolor(\"grey\")\n",
    "        self.win.setup(width=(XSIZE*20)+40,height=(YSIZE*20)+40)\n",
    "        #self.win.screensize((XSIZE*20)+20,(YSIZE*20)+20)\n",
    "        self.win.tracer(0)\n",
    "\n",
    "        #Snake Head\n",
    "        self.head = turtle.Turtle()\n",
    "        self.head.shape(\"square\")\n",
    "        self.head.color(\"black\")\n",
    "\n",
    "        # Snake food\n",
    "        self.food = turtle.Turtle()\n",
    "        self.food.shape(\"circle\")\n",
    "        self.food.color(\"yellow\")\n",
    "        self.food.penup()\n",
    "        self.food.shapesize(0.55, 0.55)\n",
    "        self.segments = []\n",
    "\n",
    "    def reset(self, snake):\n",
    "        self.segments = []\n",
    "        self.head.penup()\n",
    "        self.food.goto(-500, -500)\n",
    "        self.head.goto(-500, -500)\n",
    "        for i in range(len(snake)-1):\n",
    "            self.add_snake_segment()\n",
    "        self.update_segment_positions(snake)\n",
    "       \n",
    "    def update_food(self,new_food):\n",
    "        self.food.goto(((new_food[1]-9)*20)+20, (((9-new_food[0])*20)-10)-20)\n",
    "        \n",
    "    def update_segment_positions(self, snake):\n",
    "        self.head.goto(((snake[0][1]-9)*20)+20, (((9-snake[0][0])*20)-10)-20)\n",
    "        for i in range(len(self.segments)):\n",
    "            self.segments[i].goto(((snake[i+1][1]-9)*20)+20, (((9-snake[i+1][0])*20)-10)-20)\n",
    "\n",
    "    def add_snake_segment(self):\n",
    "        self.new_segment = turtle.Turtle()\n",
    "        self.new_segment.speed(0)\n",
    "        self.new_segment.shape(\"square\")\n",
    "        # self.new_segment.color(random.choice([\"green\",'black','red','blue'])) TODO: Change Back\n",
    "        self.new_segment.color(\"green\")\n",
    "        self.new_segment.penup()\n",
    "        self.segments.append(self.new_segment)\n",
    "    \n",
    "if not HEADLESS:\n",
    "    display = DisplayGame(XSIZE,YSIZE)"
   ]
  },
  {
   "cell_type": "code",
   "execution_count": null,
   "metadata": {},
   "outputs": [],
   "source": [
    "class snake:\n",
    "    def __init__(self, _XSIZE, _YSIZE):\n",
    "        self.XSIZE = _XSIZE\n",
    "        self.YSIZE = _YSIZE\n",
    "        self.ticks_alive = 0\n",
    "        self.reset()\n",
    "\n",
    "    def reset(self):\n",
    "        self.snake = [[8,10], [8,9], [8,8], [8,7], [8,6], [8,5], [8,4], [8,3], [8,2], [8,1],[8,0]] # Initial snake co-ordinates [ypos,xpos]    \n",
    "        self.food = self.place_food()\n",
    "        self.ahead = []\n",
    "        self.snake_direction = \"right\"\n",
    "        self.ticks_alive = 0\n",
    "\n",
    "    def place_food(self):\n",
    "        self.food = [random.randint(1, (YSIZE-2)), random.randint(1, (XSIZE-2))]\n",
    "        while (self.food in self.snake):\n",
    "            self.food = [random.randint(1, (YSIZE-2)), random.randint(1, (XSIZE-2))]\n",
    "        return( self.food )\n",
    "    \n",
    "    def incr_ticks_alive(self):\n",
    "        self.ticks_alive += 1\n",
    "    \n",
    "    def update_snake_position(self):\n",
    "        self.snake.insert(0, [self.snake[0][0] + (self.snake_direction == \"down\" and 1) + (self.snake_direction == \"up\" and -1), self.snake[0][1] + (self.snake_direction == \"left\" and -1) + (self.snake_direction == \"right\" and 1)])\n",
    "\n",
    "    def food_eaten(self):\n",
    "        if self.snake[0] == self.food:                                            # When snake eats the food\n",
    "            return True\n",
    "        else:    \n",
    "            last = self.snake.pop()  # [1] If it does not eat the food, it moves forward and so last tail item is removed\n",
    "            return False\n",
    "            \n",
    "    def snake_turns_into_self(self):\n",
    "        if self.snake[0] in self.snake[1:]:\n",
    "            return True\n",
    "        else:\n",
    "            return False\n",
    "\n",
    "    def snake_hit_wall(self):\n",
    "        if self.snake[0][0] == 0 or self.snake[0][0] == (YSIZE-1) or self.snake[0][1] == 0 or self.snake[0][1] == (XSIZE-1):\n",
    "            return True\n",
    "        else:\n",
    "            return False\n",
    "\n",
    "    # Example sensing functions\n",
    "    def getAheadLocation(self):\n",
    "        self.ahead = [ self.snake[0][0] + (self.snake_direction == \"down\" and 1) + (self.snake_direction == \"up\" and -1), self.snake[0][1] + (self.snake_direction == \"left\" and -1) + (self.snake_direction == \"right\" and 1)] \n",
    "        \n",
    "    def sense_wall_at_coord(self, coord):\n",
    "        self.getAheadLocation()\n",
    "        return(coord[0] == 0 or coord[0] == (YSIZE-1) or coord[1] == 0 or coord[1] == (XSIZE-1))\n",
    "\n",
    "    def sense_food_ahead(self):\n",
    "        self.getAheadLocation()\n",
    "        return self.food == self.ahead\n",
    "\n",
    "    def sense_tail_at_coord(self, coord):\n",
    "        return coord in self.snake\n",
    "    \n",
    "    def distance_to_food(self):\n",
    "        return abs(self.food[0]-self.snake[0][0]) + abs(self.food[1]-self.snake[0][1])\n",
    "    \n",
    "    # Using Paper One\n",
    "    #  if there is a body part or wall on the checked side of the snake’s head (0 or 1 value)\n",
    "    \n",
    "    def check_for_obstacle(self, side):\n",
    "        if side == \"behind\":\n",
    "            return 0\n",
    "        if PRINT:\n",
    "            print(\"-------------------------\")\n",
    "        offsets = {(\"right\", \"left\"): [-1, -1], (\"right\", \"right\"): [+1, -1],\n",
    "                   (\"left\", \"left\"): [+1, +1], (\"left\", \"right\"): [-1, +1],\n",
    "                   (\"up\", \"left\"): [+1, -1], (\"up\", \"right\"): [+1, +1],\n",
    "                   (\"down\", \"left\"): [-1, +1], (\"down\", \"right\"): [-1, -1]}\n",
    "        \n",
    "        self.getAheadLocation()\n",
    "        front_coord = self.ahead\n",
    "        \n",
    "        if PRINT:\n",
    "            print(\"Snake is moving \", self.snake_direction, \" and checking \", side)\n",
    "            print(\"Snake head is at x=\", self.snake[0][1], \" y= \", self.snake[0][0])\n",
    "        \n",
    "        if(side == \"front\"):\n",
    "            checked_coord = front_coord\n",
    "        else:\n",
    "            offset = offsets[(self.snake_direction, side)]\n",
    "            checked_coord = [front_coord[0] + offset[0], front_coord[1] + offset[1]]\n",
    "            \n",
    "        if PRINT:\n",
    "            print(\"Checking coordinate x=\", checked_coord[1], \" y= \", checked_coord[0])\n",
    "        \n",
    "        if self.sense_wall_at_coord(checked_coord):\n",
    "            if PRINT:\n",
    "                print(\"wall seen \", side)\n",
    "            return 0\n",
    "            \n",
    "        elif self.sense_tail_at_coord(checked_coord):\n",
    "            if PRINT:\n",
    "                print(\"tail seen \", side)\n",
    "            return 0\n",
    "        else:\n",
    "            return 1    "
   ]
  },
  {
   "cell_type": "markdown",
   "metadata": {},
   "source": [
    "# The Neural Network"
   ]
  },
  {
   "cell_type": "code",
   "execution_count": null,
   "metadata": {},
   "outputs": [],
   "source": [
    "class NeuralNetwork(object):\n",
    "    '''Creates a fully connected/dense neural network with 2 hidden layers'''\n",
    "    def __init__(self, numInput, numHidden1, numHidden2, numOutput):\n",
    "        self.fitness = 0\n",
    "        self.numInput = numInput + 1 # Add bias node from input to hidden layer 1 only\n",
    "        self.numHidden1 = numHidden1 # Feel free to adapt the code to add more biases if you wish\n",
    "        self.numHidden2 = numHidden2\n",
    "        self.numOutput = numOutput\n",
    "\n",
    "        self.w_i_h1 = np.random.randn(self.numHidden1, self.numInput) \n",
    "        self.w_h1_h2 = np.random.randn(self.numHidden2, self.numHidden1) \n",
    "        self.w_h2_o = np.random.randn(self.numOutput, self.numHidden2)\n",
    "\n",
    "        self.ReLU = lambda x : max(0,x)\n",
    "\n",
    "    def sigmoid(self,x):\n",
    "        try:\n",
    "            ans = (1 / (1 + math.exp(-x)))\n",
    "        except OverflowError:\n",
    "            ans = float('inf')\n",
    "        return ans\n",
    "    \n",
    "    def feedForward(self, inputs):\n",
    "        inputsBias = inputs[:]\n",
    "        inputsBias.insert(len(inputs),1)             # Add bias input\n",
    "\n",
    "        h1 = np.dot(self.w_i_h1, inputsBias)         # feed input to hidden layer 1\n",
    "        h1 = [self.ReLU(x) for x in h1]              # Activate hidden layer1\n",
    "        \n",
    "        h2 = np.dot(self.w_h1_h2, h1)                 # feed layer 1 to hidden layer 2\n",
    "        h2 = [self.ReLU(x) for x in h2]              # Activate hidden layer 2\n",
    "\n",
    "        output = np.dot(self.w_h2_o, h2)             # feed to output layer\n",
    "        output = [self.sigmoid(x) for x in output]   # Activate output layer\n",
    "        return output\n",
    "\n",
    "    def getWeightsLinear(self):\n",
    "        flat_w_i_h1 = list(self.w_i_h1.flatten())\n",
    "        flat_w_h1_h2 = list(self.w_h1_h2.flatten())\n",
    "        flat_w_h2_o = list(self.w_h2_o.flatten())\n",
    "        return( flat_w_i_h1 + flat_w_h1_h2 + flat_w_h2_o )\n",
    "\n",
    "    def setWeightsLinear(self, Wgenome):\n",
    "        numWeights_I_H1 = self.numHidden1 * self.numInput\n",
    "        numWeights_H1_H2 = self.numHidden2 * self.numHidden1\n",
    "        numWeights_H2_O = self.numOutput * self.numHidden2\n",
    "\n",
    "        self.w_i_h1 = np.array(Wgenome[:numWeights_I_H1])\n",
    "        self.w_i_h1 = self.w_i_h1.reshape((self.numHidden1, self.numInput))\n",
    "        \n",
    "        self.w_h1_h2 = np.array(Wgenome[numWeights_I_H1:(numWeights_H1_H2+numWeights_I_H1)])\n",
    "        self.w_h1_h2 = self.w_h1_h2.reshape((self.numHidden2, self.numHidden1))\n",
    "\n",
    "        self.w_h2_o = np.array(Wgenome[(numWeights_H1_H2+numWeights_I_H1):])\n",
    "        self.w_h2_o = self.w_h2_o.reshape((self.numOutput, self.numHidden2))"
   ]
  },
  {
   "cell_type": "markdown",
   "metadata": {},
   "source": [
    "# The Game"
   ]
  },
  {
   "cell_type": "code",
   "execution_count": null,
   "metadata": {},
   "outputs": [],
   "source": [
    "def run_game(display,snake_game, headless, network):\n",
    "    score = 0\n",
    "    snake_game.reset()\n",
    "    if not headless:\n",
    "        display.reset(snake_game.snake)\n",
    "        display.win.update()\n",
    "    snake_game.place_food()\n",
    "    game_over = False\n",
    "    snake_direction = \"right\"\n",
    "\n",
    "    flag = True\n",
    "    while not game_over:\n",
    "        snake_game.incr_ticks_alive()\n",
    "\n",
    "        # ****YOUR AI BELOW HERE******************\n",
    "        \n",
    "        decision = network.feedForward([snake_game.check_for_obstacle(\"front\"),\n",
    "                                        snake_game.check_for_obstacle(\"left\"),\n",
    "                                        snake_game.check_for_obstacle(\"right\"),\n",
    "                                        snake_game.check_for_obstacle(\"behind\"),\n",
    "                                        snake_game.distance_to_food()])\n",
    "        \n",
    "        direction = np.argmax(decision)\n",
    "        if PRINT:\n",
    "            print(decision)\n",
    "        \n",
    "        directions = [\"up\", \"down\", \"left\", \"right\"]\n",
    "        snake_game.snake_direction = directions[direction]\n",
    "        \n",
    "        # ****YOUR AI ABOVE HERE******************\n",
    "            \n",
    "        snake_game.update_snake_position()\n",
    "\n",
    "        # Check if food is eaten\n",
    "        if snake_game.food_eaten():\n",
    "            snake_game.place_food()\n",
    "            score += 1\n",
    "            if not headless: display.add_snake_segment()\n",
    "\n",
    "        # Game over if the snake runs over itself\n",
    "        if snake_game.snake_turns_into_self():\n",
    "            game_over = True\n",
    "            # print(\"Snake turned into itself!\")\n",
    "\n",
    "        # Game over if the snake goes through a wall\n",
    "        if snake_game.snake_hit_wall():\n",
    "            game_over = True\n",
    "            # print(\"Snake hit a wall!\")\n",
    "\n",
    "        if not headless:       \n",
    "            display.update_food(snake_game.food)\n",
    "            display.update_segment_positions(snake_game.snake)\n",
    "            display.win.update()\n",
    "            time.sleep(0.2) # Change this to modify the speed the game runs at when displayed.\n",
    "\n",
    "    # print(\"\\nFINAL score - \" + str(score))\n",
    "    # print()\n",
    "    if not headless: turtle.done()\n",
    "    return snake_game.ticks_alive\n"
   ]
  },
  {
   "cell_type": "markdown",
   "metadata": {},
   "source": [
    "# The Genetic Algorithm"
   ]
  },
  {
   "cell_type": "code",
   "execution_count": null,
   "metadata": {},
   "outputs": [],
   "source": [
    "snake_game = snake(XSIZE,YSIZE)"
   ]
  },
  {
   "cell_type": "code",
   "execution_count": null,
   "metadata": {},
   "outputs": [],
   "source": [
    "numInputNodes = 5\n",
    "numHiddenNodes1 = 4\n",
    "numHiddenNodes2 = 4\n",
    "numOutputNodes = 4\n",
    "\n",
    "IND_SIZE = ((numInputNodes+1) * numHiddenNodes1) + (numHiddenNodes1 * numHiddenNodes2) + (numHiddenNodes2 * numOutputNodes)\n",
    "\n",
    "myNet = NeuralNetwork(numInputNodes, numHiddenNodes1, numHiddenNodes2, numOutputNodes)\n",
    "\n",
    "creator.create(\"FitnessMax\", base.Fitness, weights=(1.0,))\n",
    "creator.create(\"Individual\", list, fitness=creator.FitnessMax)\n",
    "\n",
    "toolbox = base.Toolbox()\n",
    "toolbox.register(\"attr_float\", random.uniform, -1.0, 1.0)\n",
    "toolbox.register(\"individual\", tools.initRepeat, creator.Individual,\n",
    "                 toolbox.attr_float, n=IND_SIZE)\n",
    "\n",
    "def evaluate(indiv, myNet, snake_game):\n",
    "    myNet.setWeightsLinear(indiv)   # Load the individual's weights into the neural network\n",
    "    fitness = run_game(display, snake_game, HEADLESS, myNet) # Evaluate the individual by running the game (discuss)\n",
    "    return fitness,\n",
    "\n",
    "toolbox.register(\"evaluate\", evaluate)\n",
    "toolbox.register(\"select\", tools.selTournament, tournsize=5)\n",
    "\n",
    "toolbox.register(\"mutate\", tools.mutGaussian, mu=0.0, sigma=0.2, indpb=0.1)\n",
    "toolbox.register(\"population\", tools.initRepeat, list, toolbox.individual)\n",
    "\n",
    "stats = tools.Statistics(key=lambda ind: ind.fitness.values)\n",
    "stats.register(\"avg\", np.mean)\n",
    "stats.register(\"std\", np.std)\n",
    "stats.register(\"min\", np.min)\n",
    "stats.register(\"max\", np.max)\n",
    "\n",
    "logbook = tools.Logbook()\n",
    "\n",
    "pop = toolbox.population(n=100)"
   ]
  },
  {
   "cell_type": "code",
   "execution_count": null,
   "metadata": {},
   "outputs": [],
   "source": [
    "fitnesses = [toolbox.evaluate(indiv, myNet, snake_game) for indiv in pop]\n",
    "for ind, fit in zip(pop, fitnesses):\n",
    "    ind.fitness.values = fit\n",
    "\n",
    "NGEN = 100\n",
    "\n",
    "for g in range(NGEN):\n",
    "      \n",
    "    offspring = toolbox.select(pop, len(pop))\n",
    "    offspring = list(map(toolbox.clone, offspring))\n",
    "\n",
    "    for mutant in offspring:\n",
    "        toolbox.mutate(mutant)\n",
    "        del mutant.fitness.values\n",
    "          \n",
    "    invalid_ind = [ind for ind in offspring if not ind.fitness.valid]\n",
    "    fitnesses = [toolbox.evaluate(indiv, myNet, snake_game) for indiv in invalid_ind]\n",
    "    for ind, fit in zip(invalid_ind, fitnesses):\n",
    "         ind.fitness.values = fit\n",
    "   \n",
    "    pop[:] = offspring\n",
    "    record = stats.compile(pop)\n",
    "    logbook.record(gen=g, **record)"
   ]
  },
  {
   "cell_type": "markdown",
   "metadata": {},
   "source": [
    "# Evaluation of Code"
   ]
  },
  {
   "cell_type": "code",
   "execution_count": null,
   "metadata": {},
   "outputs": [],
   "source": [
    "logbook.header = \"gen\", \"avg\", \"evals\", \"std\", \"min\", \"max\"\n",
    "\n",
    "import matplotlib.pyplot as plt\n",
    "%matplotlib inline\n",
    "\n",
    "gen = logbook.select(\"gen\")\n",
    "_min = logbook.select(\"min\")\n",
    "_max = logbook.select(\"max\")\n",
    "avgs = logbook.select(\"avg\")\n",
    "stds = logbook.select(\"std\")\n",
    "\n",
    "plt.rc('axes', labelsize=14)\n",
    "plt.rc('xtick', labelsize=14)\n",
    "plt.rc('ytick', labelsize=14) \n",
    "plt.rc('legend', fontsize=14)\n",
    "\n",
    "fig, ax1 = plt.subplots()\n",
    "line1 = ax1.plot(gen, avgs)\n",
    "ax1.set_xlabel(\"Generation\")\n",
    "ax1.set_ylabel(\"Fitness\")\n",
    "\n",
    "line2 = ax1.plot(gen, _min)\n",
    "line3 = ax1.plot(gen, _max)\n",
    "\n",
    "\n",
    "bestInd = tools.selBest(pop, 1)[0]\n",
    "myNet.setWeightsLinear(bestInd)\n",
    "\n",
    "print(logbook)"
   ]
  },
  {
   "cell_type": "markdown",
   "metadata": {},
   "source": [
    "Below is what you would use for your evaluation. You would also use it to display your final (pickled and loaded) solution, with headless = False."
   ]
  },
  {
   "cell_type": "markdown",
   "metadata": {},
   "source": [
    "If you have run without headless (i.e. with the display) you will need to reset your kernel to run again. This appears to be an IPython issue with Turtle, but if you have a way to deal with that, do please let me know. You will probable only want to run it one-at-a-time anyway."
   ]
  },
  {
   "cell_type": "code",
   "execution_count": null,
   "metadata": {},
   "outputs": [],
   "source": [
    "if HEADLESS:\n",
    "    display = DisplayGame(XSIZE,YSIZE)\n",
    "PRINT = True   \n",
    "run_game(display, snake_game, False, myNet)"
   ]
  },
  {
   "cell_type": "code",
   "execution_count": null,
   "metadata": {},
   "outputs": [],
   "source": []
  },
  {
   "cell_type": "code",
   "execution_count": null,
   "metadata": {},
   "outputs": [],
   "source": []
  }
 ],
 "metadata": {
  "kernelspec": {
   "display_name": "Python 3 (ipykernel)",
   "language": "python",
   "name": "python3"
  },
  "language_info": {
   "codemirror_mode": {
    "name": "ipython",
    "version": 3
   },
   "file_extension": ".py",
   "mimetype": "text/x-python",
   "name": "python",
   "nbconvert_exporter": "python",
   "pygments_lexer": "ipython3",
   "version": "3.8.10"
  }
 },
 "nbformat": 4,
 "nbformat_minor": 4
}
     \t5.25608\t1  \t17 \n",
      "50 \t14.14\t     \t4.96995\t1  \t17 \n",
      "51 \t12.83\t     \t5.66049\t1  \t17 \n",
      "52 \t12.26\t     \t5.9002 \t1  \t17 \n",
      "53 \t12.77\t     \t5.85979\t1  \t17 \n",
      "54 \t12.38\t     \t5.9796 \t1  \t17 \n",
      "55 \t12.57\t     \t6.25021\t1  \t17 \n",
      "56 \t14.75\t     \t4.6225 \t1  \t17 \n",
      "57 \t13.85\t     \t5.65221\t1  \t17 \n",
      "58 \t14.16\t     \t5.04524\t1  \t17 \n",
      "59 \t13.05\t     \t5.68045\t1  \t17 \n",
      "60 \t13.12\t     \t5.95866\t1  \t17 \n",
      "61 \t13.18\t     \t6.07187\t1  \t17 \n",
      "62 \t13.77\t     \t5.2685 \t1  \t17 \n",
      "63 \t14.05\t     \t4.7146 \t1  \t17 \n",
      "64 \t13.54\t     \t5.53971\t1  \t17 \n",
      "65 \t13.43\t     \t5.80389\t1  \t17 \n",
      "66 \t13.78\t     \t5.99597\t1  \t17 \n",
      "67 \t13.5 \t     \t5.79396\t1  \t17 \n",
      "68 \t12.71\t     \t6.19886\t1  \t17 \n",
      "69 \t13.14\t     \t5.91273\t1  \t17 \n",
      "70 \t14.83\t     \t4.83747\t1  \t17 \n",
      "71 \t12.97\t     \t5.63996\t1  \t17 \n",
      "72 \t13.94\t     \t5.62285\t1  \t17 \n",
      "73 \t14.42\t     \t5.07579\t1  \t17 \n",
      "74 \t14.54\t     \t4.82373\t1  \t17 \n",
      "75 \t13.77\t     \t5.55312\t1  \t17 \n",
      "76 \t13.46\t     \t5.63102\t1  \t17 \n",
      "77 \t14.01\t     \t5.49817\t1  \t17 \n",
      "78 \t13.98\t     \t5.48813\t1  \t17 \n",
      "79 \t14.56\t     \t5.00664\t1  \t17 \n",
      "80 \t13.56\t     \t5.81261\t1  \t17 \n",
      "81 \t13.82\t     \t5.39329\t1  \t17 \n",
      "82 \t14.19\t     \t5.2301 \t1  \t17 \n",
      "83 \t14.1 \t     \t5.09411\t1  \t17 \n",
      "84 \t14.21\t     \t5.03844\t1  \t17 \n",
      "85 \t14.72\t     \t4.37511\t1  \t17 \n",
      "86 \t13.96\t     \t5.32714\t1  \t17 \n",
      "87 \t14.57\t     \t4.7334 \t1  \t17 \n",
      "88 \t13.8 \t     \t5.42586\t1  \t17 \n",
      "89 \t14.21\t     \t5.3015 \t1  \t17 \n",
      "90 \t14.69\t     \t4.65767\t1  \t17 \n",
      "91 \t15.12\t     \t4.25977\t1  \t17 \n",
      "92 \t13.77\t     \t5.21317\t1  \t17 \n",
      "93 \t13.58\t     \t5.65364\t1  \t17 \n",
      "94 \t14.69\t     \t4.8243 \t1  \t17 \n",
      "95 \t14.56\t     \t4.42565\t1  \t17 \n",
      "96 \t14.78\t     \t4.41719\t1  \t17 \n",
      "97 \t15.12\t     \t4.38698\t1  \t17 \n",
      "98 \t14.18\t     \t4.76105\t1  \t17 \n",
      "99 \t14.76\t     \t4.34539\t1  \t17 \n"
     ]
    },
    {
     "data": {
      "image/png": "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\n",
      "text/plain": [
       "<Figure size 432x288 with 1 Axes>"
      ]
     },
     "metadata": {
      "needs_background": "light"
     },
     "output_type": "display_data"
    }
   ],
   "source": [
    "logbook.header = \"gen\", \"avg\", \"evals\", \"std\", \"min\", \"max\"\n",
    "\n",
    "import matplotlib.pyplot as plt\n",
    "%matplotlib inline\n",
    "\n",
    "gen = logbook.select(\"gen\")\n",
    "_min = logbook.select(\"min\")\n",
    "_max = logbook.select(\"max\")\n",
    "avgs = logbook.select(\"avg\")\n",
    "stds = logbook.select(\"std\")\n",
    "\n",
    "plt.rc('axes', labelsize=14)\n",
    "plt.rc('xtick', labelsize=14)\n",
    "plt.rc('ytick', labelsize=14) \n",
    "plt.rc('legend', fontsize=14)\n",
    "\n",
    "fig, ax1 = plt.subplots()\n",
    "line1 = ax1.plot(gen, avgs)\n",
    "ax1.set_xlabel(\"Generation\")\n",
    "ax1.set_ylabel(\"Fitness\")\n",
    "\n",
    "line2 = ax1.plot(gen, _min)\n",
    "line3 = ax1.plot(gen, _max)\n",
    "\n",
    "\n",
    "bestInd = tools.selBest(pop, 1)[0]\n",
    "myNet.setWeightsLinear(bestInd)\n",
    "\n",
    "print(logbook)"
   ]
  },
  {
   "cell_type": "markdown",
   "metadata": {},
   "source": [
    "Below is what you would use for your evaluation. You would also use it to display your final (pickled and loaded) solution, with headless = False."
   ]
  },
  {
   "cell_type": "markdown",
   "metadata": {},
   "source": [
    "If you have run without headless (i.e. with the display) you will need to reset your kernel to run again. This appears to be an IPython issue with Turtle, but if you have a way to deal with that, do please let me know. You will probable only want to run it one-at-a-time anyway."
   ]
  },
  {
   "cell_type": "code",
   "execution_count": 12,
   "metadata": {},
   "outputs": [
    {
     "name": "stdout",
     "output_type": "stream",
     "text": [
      "-------------------------\n",
      "Snake is moving  right  and checking  front\n",
      "Snake head is at x= 10  y=  8\n",
      "Checking coordinate x= 11  y=  8\n",
      "-------------------------\n",
      "Snake is moving  right  and checking  left\n",
      "Snake head is at x= 10  y=  8\n",
      "Checking coordinate x= 10  y=  7\n",
      "-------------------------\n",
      "Snake is moving  right  and checking  right\n",
      "Snake head is at x= 10  y=  8\n",
      "Checking coordinate x= 10  y=  9\n",
      "[0.49864190453547524, 0.49687273576444735, 0.499946021752182, 0.4972215023490865]\n"
     ]
    },
    {
     "data": {
      "text/plain": [
       "1"
      ]
     },
     "execution_count": 12,
     "metadata": {},
     "output_type": "execute_result"
    }
   ],
   "source": [
    "if HEADLESS:\n",
    "    display = DisplayGame(XSIZE,YSIZE)\n",
    "PRINT = True   \n",
    "run_game(display, snake_game, False, myNet)"
   ]
  },
  {
   "cell_type": "code",
   "execution_count": null,
   "metadata": {},
   "outputs": [],
   "source": []
  },
  {
   "cell_type": "code",
   "execution_count": null,
   "metadata": {},
   "outputs": [],
   "source": []
  }
 ],
 "metadata": {
  "kernelspec": {
   "display_name": "Python 3 (ipykernel)",
   "language": "python",
   "name": "python3"
  },
  "language_info": {
   "codemirror_mode": {
    "name": "ipython",
    "version": 3
   },
   "file_extension": ".py",
   "mimetype": "text/x-python",
   "name": "python",
   "nbconvert_exporter": "python",
   "pygments_lexer": "ipython3",
   "version": "3.8.10"
  }
 },
 "nbformat": 4,
 "nbformat_minor": 4
}
