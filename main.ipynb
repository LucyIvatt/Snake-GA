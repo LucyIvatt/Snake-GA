{
 "cells": [
  {
   "cell_type": "markdown",
   "metadata": {},
   "source": [
    "# EVAC Assessment 1 - Evolve a Player for the Video Game Snake\n"
   ]
  },
  {
   "cell_type": "code",
   "execution_count": null,
   "metadata": {},
   "outputs": [],
   "source": [
    "import numpy as np\n",
    "import logging\n",
    "import os\n",
    "import pickle\n",
    "from deap import tools\n",
    "%matplotlib inline\n",
    "\n",
    "from game import DisplayGame, Snake, run_game\n",
    "from network import NeuralNetwork, generate_neural_net\n",
    "from genetic import genetic_algorithm\n",
    "from visualisation import plot_cxindpb_experiment, plot_input_experiment"
   ]
  },
  {
   "cell_type": "code",
   "execution_count": null,
   "metadata": {},
   "outputs": [],
   "source": [
    "XSIZE = YSIZE = 16 # Number of grid cells in each direction (do not change this)\n",
    "HEADLESS = True # True to run without graphical interface or False to run with the game showing\n",
    "logging.basicConfig(level=logging.INFO) # Initializes the logging level used to output to console\n",
    "\n",
    "if not HEADLESS:\n",
    "    display = DisplayGame(XSIZE,YSIZE) # Initializes display if not running in headless mode\n",
    "\n",
    "# Initializes game\n",
    "snake_game = Snake(XSIZE,YSIZE)\n",
    "analysis_gen_number = 5\n",
    "analysis_population_size = 5"
   ]
  },
  {
   "cell_type": "code",
   "execution_count": null,
   "metadata": {},
   "outputs": [],
   "source": [
    "def run_cxindpb_experiment(gen_number, population_size, type):\n",
    "    # Initializes neural network\n",
    "    numInputNodes, numHiddenNodes1, numHiddenNodes2, numOutputNodes = 10, 8, 8, 4\n",
    "    network = NeuralNetwork(numInputNodes, numHiddenNodes1, numHiddenNodes2, numOutputNodes)\n",
    "    # Calculates the size of the individual using input, output and hidden layer neuron counts (accounting for bias nodes for hidden layers)\n",
    "    ind_size = ((numInputNodes+1) * numHiddenNodes1) + ((numHiddenNodes1+1) * numHiddenNodes2) + (numHiddenNodes2 * numOutputNodes)\n",
    "    \n",
    "    # Deletes existing folder and old run info\n",
    "    save_loc = f\"sim-outputs//cx-indpb-{type}-experiment\"\n",
    "    if os.path.exists(save_loc):\n",
    "        logging.info(\"Found old folder for experiment - please save or delete\")\n",
    "        return\n",
    "\n",
    "    if type == \"exploration\":\n",
    "        iteration_num = 5\n",
    "        indpb_probs = np.arange(0.003, 0.021, 0.006)\n",
    "        cx_probs = np.arange(0.1, 0.5, 0.1)\n",
    "        probability_pairs = [(indpb, cx) for indpb in indpb_probs for cx in cx_probs]\n",
    "    elif type == \"final\":\n",
    "        iteration_num = 15\n",
    "        probability_pairs = [(0.021, 0.3), (0.015, 0.3)]\n",
    "\n",
    "    count = 1\n",
    "    logging.info(f\"STARTING CX-INDPB {type.upper()} EXPERIMENT\")\n",
    "    for iteration in range(1, iteration_num + 1):\n",
    "        for indpb, cx in probability_pairs:\n",
    "            logging.info(f\"Running algorithm for indpb {indpb} and cx {cx} - iteration {iteration}/{iteration_num} - overall completion {count}/{len(probability_pairs) * iteration_num}\")\n",
    "            genetic_algorithm(ind_size, network, snake_game, display, HEADLESS, gen_number, population_size, mut_prob=indpb, cx_prob=cx, exp_type=f\"cx-indpb-{type}\")\n",
    "            logging.info(\"> Run complete\")\n",
    "            count += 1\n",
    "    logging.info(f\"CX-INDPB {type.upper()} EXPERIMENT COMPLETE\")\n",
    "\n",
    "def run_input_experiment(gen_number, population_size, type):\n",
    "    # Deletes existing folder and old run info\n",
    "    save_loc = f\"sim-outputs//input-{type}-experiment\"\n",
    "    if os.path.exists(save_loc):\n",
    "        logging.info(\"Found old folder for experiment - please save or delete\")\n",
    "        return\n",
    "    \n",
    "    if type == \"exploration\":\n",
    "        iteration_num = 5\n",
    "        algorithms = [\"a\", \"b\", \"c\", \"d\", \"e\"]\n",
    "    elif type == \"final\":\n",
    "        iteration_num = 15\n",
    "        algorithms = [\"b\", \"e\"]\n",
    "    \n",
    "    count = 1\n",
    "    logging.info(f\"STARTING INPUT {type.upper()} EXPERIMENT\")\n",
    "    for iteration in range(1, iteration_num + 1):\n",
    "        for algorithm in algorithms:\n",
    "            ind_size, network = generate_neural_net(algorithm)\n",
    "            logging.info(f\"Running algorithm {algorithm.upper()} - iteration {iteration}/{iteration_num} - overall completion {count}/{len(algorithms) * iteration_num}\")\n",
    "            genetic_algorithm(ind_size, network, snake_game, display, HEADLESS, gen_number, population_size,  mut_prob=0.021, cx_prob=0.3, exp_type=f\"input-{type}\", algorithm=algorithm)\n",
    "            logging.info(\"> Run complete\")\n",
    "            count += 1\n",
    "    logging.info(f\"INPUT {type.upper()} EXPERIMENT COMPLETE\")\n",
    "\n",
    "\n",
    "def run_single_experiment(algorithm, gen_num, pop_num):\n",
    "    ind_size, network = generate_neural_net(algorithm)\n",
    "    logbook = genetic_algorithm(ind_size, network, gen_num, pop_num, exp_type=\"test\", algorithm=algorithm)\n"
   ]
  },
  {
   "cell_type": "code",
   "execution_count": null,
   "metadata": {},
   "outputs": [],
   "source": [
    "def run_best_ind(pop_file, algorithm): # Loads best individual and runs in non-headless\n",
    "    display = DisplayGame(XSIZE,YSIZE)\n",
    "    _, network = generate_neural_net(algorithm)\n",
    "\n",
    "    open_file = open(pop_file, \"rb\")\n",
    "    population = pickle.load(open_file)\n",
    "    open_file.close()\n",
    "\n",
    "    bestInd = tools.selBest(population, 1)[0] \n",
    "    network.setWeightsLinear(bestInd)\n",
    "    run_game(display, snake_game, False, network)"
   ]
  },
  {
   "cell_type": "code",
   "execution_count": null,
   "metadata": {},
   "outputs": [],
   "source": [
    "run_cxindpb_experiment(analysis_gen_number, analysis_population_size, \"exploration\")\n",
    "run_cxindpb_experiment(analysis_gen_number, analysis_population_size, \"final\")"
   ]
  },
  {
   "cell_type": "code",
   "execution_count": null,
   "metadata": {},
   "outputs": [],
   "source": [
    "plot_cxindpb_experiment(\"exploration\")\n",
    "plot_cxindpb_experiment(\"final\")"
   ]
  },
  {
   "cell_type": "code",
   "execution_count": null,
   "metadata": {},
   "outputs": [],
   "source": [
    "run_input_experiment(analysis_gen_number, analysis_population_size, \"exploration\")\n",
    "run_input_experiment(analysis_gen_number, analysis_population_size, \"final\")"
   ]
  },
  {
   "cell_type": "code",
   "execution_count": null,
   "metadata": {},
   "outputs": [],
   "source": [
    "plot_input_experiment(\"exploration\")\n",
    "plot_input_experiment(\"final\")"
   ]
  }
 ],
 "metadata": {
  "interpreter": {
   "hash": "7c6d2f17150899d8bde5b063b5b1db4e9d9b72bbf5a60a5beab3ff4a3a1bcd35"
  },
  "kernelspec": {
   "display_name": "Python 3.10.0 64-bit",
   "name": "python3"
  },
  "language_info": {
   "codemirror_mode": {
    "name": "ipython",
    "version": 3
   },
   "file_extension": ".py",
   "mimetype": "text/x-python",
   "name": "python",
   "nbconvert_exporter": "python",
   "pygments_lexer": "ipython3",
   "version": "3.10.2"
  }
 },
 "nbformat": 4,
 "nbformat_minor": 4
}
