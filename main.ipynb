{
 "cells": [
  {
   "cell_type": "markdown",
   "metadata": {},
   "source": [
    "# EVAC Assessment 1 - Evolve a Player for the Video Game Snake\n"
   ]
  },
  {
   "cell_type": "markdown",
   "metadata": {},
   "source": [
    "## Setup\n",
    "Imports the necessary third-party modules (deap, numpy etc.) as well as the custom written modules (game, network, genetic & visualization) to run the genetic algorithm & variant experiments"
   ]
  },
  {
   "cell_type": "code",
   "execution_count": null,
   "metadata": {},
   "outputs": [],
   "source": [
    "import numpy as np\n",
    "import logging\n",
    "import os\n",
    "import pickle\n",
    "from deap import tools\n",
    "import warnings\n",
    "import matplotlib.pyplot as plt\n",
    "from scipy.stats import mannwhitneyu\n",
    "%matplotlib inline\n",
    "\n",
    "from game import DisplayGame, Snake, run_game\n",
    "from network import generate_neural_net\n",
    "from genetic import genetic_algorithm\n",
    "from visualisation import plot_experiment\n",
    "from enums import Experiment, ExperimentType\n",
    "\n",
    "warnings.filterwarnings(\"ignore\")\n",
    "plt.rcParams.update({'font.size': 14})\n",
    "\n",
    "XSIZE = YSIZE = 16 # Number of grid cells in each direction (do not change this)\n",
    "HEADLESS = True # True to run without graphical interface or False to run with the game showing\n",
    "logging.basicConfig(level=logging.INFO) # Initializes the logging level used to output to console\n",
    "\n",
    "if not HEADLESS:\n",
    "    display = DisplayGame(XSIZE,YSIZE) # Initializes display if not running in headless mode\n",
    "\n",
    "# Initializes game\n",
    "snake_game = Snake(XSIZE,YSIZE)\n",
    "\n",
    "\n",
    "analysis_gen_number = 150 \n",
    "analysis_population_size = 1500 \n",
    "final_gen_number = 200\n",
    "final_population_size = 1500\n",
    "test_gen_number = 75\n",
    "test_population_size = 500"
   ]
  },
  {
   "cell_type": "markdown",
   "metadata": {},
   "source": [
    "## Experiment Code\n",
    "Functions to run the genetic algorithm to perform the different experiments. "
   ]
  },
  {
   "cell_type": "code",
   "execution_count": null,
   "metadata": {},
   "outputs": [],
   "source": [
    "def run_test_experiment(gen_num, pop_num,):\n",
    "    '''Simple function to run final algorithm once and plot mean/max fitness against generation'''\n",
    "    ind_size, network = generate_neural_net(\"b\")\n",
    "    logbook, _ = genetic_algorithm(ind_size, network, snake_game, display, HEADLESS, gen_num, pop_num, mut_prob=0.021, cx_prob=0.3, exp_type=Experiment.TEST, algorithm=\"b\")\n",
    "    plt.rcParams.update({'font.size': 12})\n",
    "\n",
    "    fig = plt.figure(figsize =(10, 7)) \n",
    "    ax = fig.add_axes([0, 0, 1, 1]) \n",
    "    ax.set_xlabel('Generation')\n",
    "    ax.set_ylabel('Fitness')\n",
    "    ax.plot(logbook.select(\"gen\"), logbook.select(\"mean\"), lw=3, color='blue')\n",
    "    ax.plot(logbook.select(\"gen\"), logbook.select(\"max\"), lw=3, color='orange')\n",
    "    plt.legend([\"Mean\", \"Max\"], bbox_to_anchor=(0.75, 1.15), ncol=2)\n",
    "    return logbook"
   ]
  },
  {
   "cell_type": "markdown",
   "metadata": {},
   "source": [
    "\n",
    "### Mutation & Crossover Probability Experiment\n",
    "Number of generations = 150\n",
    "Population size = 1500\n",
    "- Exploration\n",
    "  - Runs the algorithm for 16 different probability pairings for mutation/crossover\n",
    "  - Each algorithm is ran 5 times and then the statistics are averaged (due to the stochastic nature of genetic algorithms)\n",
    "- Final\n",
    "  - Runs the algorithm for the 2 best probability pairings\n",
    "  - Each algorithm is ran 15 times and then the statistics are averaged (due to the stochastic nature of genetic algorithms)"
   ]
  },
  {
   "cell_type": "code",
   "execution_count": null,
   "metadata": {},
   "outputs": [],
   "source": [
    "def run_cxindpb_experiment(gen_number, population_size, exp_type):\n",
    "    '''Runs the mutation/crossover probability experiment (exploration or final) and outputs data to folder'''\n",
    "\n",
    "    # Initialises the neural network and individual size with the default algorithm\n",
    "    ind_size, network = generate_neural_net(\"b\")\n",
    "    \n",
    "    # Deletes existing folder and old run info\n",
    "    save_loc = f\"sim-outputs//cx-indpb-{exp_type.value}-experiment\"\n",
    "    if os.path.exists(save_loc):\n",
    "        logging.info(\"Found old folder for experiment - please save or delete\")\n",
    "        return\n",
    "\n",
    "    if exp_type == ExperimentType.EXPLORATION:\n",
    "        iteration_num = 5\n",
    "        indpb_probs = np.arange(0.003, 0.021, 0.006)\n",
    "        cx_probs = np.arange(0.1, 0.5, 0.1)\n",
    "        probability_pairs = [(indpb, cx) for indpb in indpb_probs for cx in cx_probs]\n",
    "    elif exp_type == ExperimentType.FINAL:\n",
    "        iteration_num = 15\n",
    "        probability_pairs = [(0.021, 0.3), (0.015, 0.3)]\n",
    "\n",
    "    count = 1\n",
    "    logging.info(f\"STARTING CX-INDPB {exp_type.value.upper()} EXPERIMENT\")\n",
    "    for iteration in range(1, iteration_num + 1):\n",
    "        for indpb, cx in probability_pairs:\n",
    "            logging.info(f\"Running algorithm for indpb {indpb} and cx {cx} - iteration {iteration}/{iteration_num} - overall completion {count}/{len(probability_pairs) * iteration_num}\")\n",
    "            genetic_algorithm(ind_size, network, snake_game, display, HEADLESS, gen_number, population_size, mut_prob=indpb, cx_prob=cx, exp=Experiment.CXINDPB, exp_type=exp_type)\n",
    "            logging.info(\"> Run complete\")\n",
    "            count += 1\n",
    "    logging.info(f\"CX-INDPB {exp_type.value.upper()} EXPERIMENT COMPLETE\")"
   ]
  },
  {
   "cell_type": "markdown",
   "metadata": {},
   "source": [
    "### Neural Network Input Experiment\n",
    "Number of generations = 150\n",
    "\n",
    "Population size = 1500\n",
    "\n",
    "- Exploration\n",
    "  - Runs the algorithm for the 8 different combinations of neural network inputs (provided in report appendix)\n",
    "  - Each algorithm is ran 5 times and then the statistics are averaged (due to the stochastic nature of genetic algorithms)\n",
    "- Final\n",
    "  - Runs the algorithm for the 2 best combinations of inputs\n",
    "  - Each algorithm is ran 15 times and then the statistics are averaged (due to the stochastic nature of genetic algorithms)."
   ]
  },
  {
   "cell_type": "code",
   "execution_count": null,
   "metadata": {},
   "outputs": [],
   "source": [
    "def run_input_experiment(gen_number, population_size, exp_type):\n",
    "    # Deletes existing folder and old run info\n",
    "    save_loc = f\"sim-outputs//input-{exp_type.value}-experiment\"\n",
    "    if os.path.exists(save_loc):\n",
    "        logging.info(\"Found old folder for experiment - please save or delete\")\n",
    "        return\n",
    "    \n",
    "    if exp_type == ExperimentType.EXPLORATION:\n",
    "        iteration_num = 5\n",
    "        algorithms = [\"a\", \"b\", \"c\", \"d\", \"e\", \"f\", \"g\", \"h\"]\n",
    "    elif exp_type == ExperimentType.FINAL:\n",
    "        iteration_num = 15\n",
    "        algorithms = [\"b\", \"d\"]\n",
    "    \n",
    "    count = 1\n",
    "    logging.info(f\"STARTING INPUT {exp_type.value.upper()} EXPERIMENT\")\n",
    "    for iteration in range(1, iteration_num + 1):\n",
    "        for algorithm in algorithms:\n",
    "            ind_size, network = generate_neural_net(algorithm)\n",
    "            logging.info(f\"Running algorithm {algorithm.upper()} - iteration {iteration}/{iteration_num} - overall completion {count}/{len(algorithms) * iteration_num}\")\n",
    "            genetic_algorithm(ind_size, network, snake_game, display, HEADLESS, gen_number, population_size,  mut_prob=0.021, cx_prob=0.3, exp = Experiment.INPUT, exp_type=exp_type, algorithm=algorithm)\n",
    "            logging.info(\"> Run complete\")\n",
    "            count += 1\n",
    "    logging.info(f\"INPUT {exp_type.value.upper()} EXPERIMENT COMPLETE\")"
   ]
  },
  {
   "cell_type": "markdown",
   "metadata": {},
   "source": [
    "### Final Algorithm\n",
    "Number of generations = 250\n",
    "\n",
    "Population size = 1500\n",
    "\n",
    "- Runs the algorithm with the best probability pair and best neural network inputs as previously identified.\n",
    "- The algorithm is ran 15 times and then the statistics are averaged (due to the stochastic nature of genetic algorithms)."
   ]
  },
  {
   "cell_type": "code",
   "execution_count": null,
   "metadata": {},
   "outputs": [],
   "source": [
    "def run_final_algorithm(gen_number, population_size):\n",
    "    algorithm = \"b\"\n",
    "    mutation_prob = 0.021\n",
    "    crossover_prob = 0.3\n",
    "    iteration_num = 15\n",
    "\n",
    "    # Deletes existing folder and old run info\n",
    "    save_loc = f\"sim-outputs//final-algorithm\"\n",
    "    if os.path.exists(save_loc):\n",
    "        logging.info(\"Found old folder for experiment - please save or delete\")\n",
    "        return\n",
    "    \n",
    "    count = 1\n",
    "    logging.info(f\"RUNNING FINAL ALGORITHM\")\n",
    "    for iteration in range(1, iteration_num + 1):\n",
    "        ind_size, network = generate_neural_net(algorithm)\n",
    "        logging.info(f\"Running final algorithm - iteration {iteration}/{iteration_num}\")\n",
    "        genetic_algorithm(ind_size, network, snake_game, display, HEADLESS, gen_number, population_size,  mut_prob=mutation_prob, cx_prob=crossover_prob, exp=Experiment.FINAL_ALGORITHM, exp_type=ExperimentType.FINAL_ALGORITHM, algorithm=algorithm)\n",
    "        logging.info(\"> Run complete\")\n",
    "        count += 1\n",
    "    logging.info(f\"FINISHED RUNNING FINAL ALGORITHM\")\n",
    "\n",
    "def run_best_ind():\n",
    "    '''Runs the game in non-headless using the best individual from the final algorithm'''\n",
    "    save_location = \"sim-outputs//final-algorithm\"\n",
    "    display = DisplayGame(XSIZE,YSIZE)\n",
    "    _, network = generate_neural_net(\"b\")\n",
    "\n",
    "    max_fitness = 0\n",
    "    max_fitness_individual = None\n",
    "    runs = [folder for folder in os.listdir(save_location) if os.path.isdir(save_location + \"//\" + folder)]\n",
    "    for run in runs:\n",
    "        logbook_file = open(save_location + \"//\" + run + \"//\" + \"logbook\" + \".pkl\", \"rb\")\n",
    "        logbook = pickle.load(logbook_file)\n",
    "        if logbook.select(\"max\")[-1] > max_fitness:\n",
    "            pop_file = open(save_location + \"//\" + run + \"//\" + \"final_population\" + \".pkl\", \"rb\")\n",
    "            max_fitness_individual = tools.selBest(pickle.load(pop_file), 1)[0]\n",
    "            pop_file.close()\n",
    "            max_fitness = logbook.select(\"max\")[-1]\n",
    "\n",
    "    network.setWeightsLinear(max_fitness_individual)\n",
    "    print(f\"Running individual with highest fitness of {max_fitness})\")\n",
    "    run_game(display, snake_game, False, network, \"b\")"
   ]
  },
  {
   "cell_type": "markdown",
   "metadata": {},
   "source": [
    "## Running the Algorithm\n",
    "### Test\n",
    "Runs and plots the mean fitness and max fitness of the final algorithm after 1 iteration."
   ]
  },
  {
   "cell_type": "code",
   "execution_count": null,
   "metadata": {},
   "outputs": [],
   "source": [
    "# run_test_experiment(test_gen_number, test_population_size)"
   ]
  },
  {
   "cell_type": "markdown",
   "metadata": {},
   "source": [
    "\n",
    "\n",
    "### Experiments\n",
    "Runs and plots the experiments using the custom module `visualisation.py` that is provided."
   ]
  },
  {
   "cell_type": "code",
   "execution_count": null,
   "metadata": {},
   "outputs": [],
   "source": [
    "run_cxindpb_experiment(analysis_gen_number, analysis_population_size, ExperimentType.EXPLORATION)\n",
    "run_cxindpb_experiment(analysis_gen_number, analysis_population_size, ExperimentType.FINAL)\n",
    "plot_experiment(Experiment.CXINDPB, ExperimentType.EXPLORATION)\n",
    "plot_experiment(Experiment.CXINDPB, ExperimentType.FINAL)\n"
   ]
  },
  {
   "cell_type": "code",
   "execution_count": null,
   "metadata": {},
   "outputs": [],
   "source": [
    "run_input_experiment(analysis_gen_number, analysis_population_size, ExperimentType.EXPLORATION)\n",
    "run_input_experiment(analysis_gen_number, analysis_population_size, ExperimentType.FINAL)\n",
    "plot_experiment(Experiment.INPUT, ExperimentType.EXPLORATION)\n",
    "plot_experiment(Experiment.INPUT, ExperimentType.FINAL)"
   ]
  },
  {
   "cell_type": "code",
   "execution_count": null,
   "metadata": {},
   "outputs": [],
   "source": [
    "run_final_algorithm(final_gen_number, final_population_size)\n",
    "plot_experiment(Experiment.FINAL_ALGORITHM, ExperimentType.FINAL_ALGORITHM)\n",
    "run_best_ind()"
   ]
  },
  {
   "cell_type": "markdown",
   "metadata": {},
   "source": [
    "## Statistics"
   ]
  },
  {
   "cell_type": "code",
   "execution_count": null,
   "metadata": {},
   "outputs": [],
   "source": [
    "def compare_final_distributions(experiment):\n",
    "    save_location = \"sim-outputs//\"\n",
    "    if experiment == Experiment.INPUT:\n",
    "        save_location += \"input-final-experiment\"\n",
    "    elif experiment == Experiment.CXINDPB:\n",
    "        save_location += \"cx-indpb-final-experiment\"\n",
    "    \n",
    "    final_generation_file = open(save_location + \"//\" + \"final_generation_averages\" + \".pkl\", \"rb\")\n",
    "    final_distribution_data = pickle.load(final_generation_file)\n",
    "    final_generation_file.close()\n",
    "\n",
    "    data_a = final_distribution_data[0][1]\n",
    "    data_b = final_distribution_data[1][1]\n",
    "\n",
    "    data_a_size = len(data_a)\n",
    "    data_b_size = len(data_b)\n",
    "\n",
    "    max_u_size = data_a_size * data_b_size\n",
    "\n",
    "    U, p = mannwhitneyu(data_a, data_b)\n",
    "\n",
    "    print(\"----------------------------------------------\")\n",
    "    print(f\"Final {experiment.value.capitalize()} Experiment Mann Whitney U Test:\")\n",
    "    print(f\"U={U: .3f}\")\n",
    "    print(f\"'U={max_u_size - U: .3f}\")\n",
    "    print(f\"p={p: .3f}\")\n",
    "    print(f\"Sample sizes: {data_a_size} & {data_b_size}\")\n",
    "    print(f\"Max U value= {max_u_size}\")\n",
    "    print(\"----------------------------------------------\")"
   ]
  },
  {
   "cell_type": "code",
   "execution_count": null,
   "metadata": {},
   "outputs": [],
   "source": [
    "compare_final_distributions(Experiment.INPUT)\n",
    "compare_final_distributions(Experiment.CXINDPB)"
   ]
  },
  {
   "cell_type": "code",
   "execution_count": null,
   "metadata": {},
   "outputs": [],
   "source": []
  }
 ],
 "metadata": {
  "interpreter": {
   "hash": "7c6d2f17150899d8bde5b063b5b1db4e9d9b72bbf5a60a5beab3ff4a3a1bcd35"
  },
  "kernelspec": {
   "display_name": "Python 3.10.0 64-bit",
   "name": "python3"
  },
  "language_info": {
   "codemirror_mode": {
    "name": "ipython",
    "version": 3
   },
   "file_extension": ".py",
   "mimetype": "text/x-python",
   "name": "python",
   "nbconvert_exporter": "python",
   "pygments_lexer": "ipython3",
   "version": "3.10.0"
  }
 },
 "nbformat": 4,
 "nbformat_minor": 4
}
